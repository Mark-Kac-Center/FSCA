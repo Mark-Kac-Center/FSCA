{
 "cells": [
  {
   "cell_type": "code",
   "execution_count": 1,
   "id": "ae14d4b8-0010-4458-9e70-d122d0cb4d4b",
   "metadata": {},
   "outputs": [
    {
     "name": "stderr",
     "output_type": "stream",
     "text": [
      "/home/grela/.local/lib/python3.7/site-packages/requests/__init__.py:91: RequestsDependencyWarning: urllib3 (1.26.12) or chardet (4.0.0) doesn't match a supported version!\n",
      "  RequestsDependencyWarning)\n"
     ]
    }
   ],
   "source": [
    "from mfractal_mri import mfractal_mri"
   ]
  },
  {
   "cell_type": "markdown",
   "id": "e8acecee-b80e-48d8-b6b2-99004fd3c1df",
   "metadata": {},
   "source": [
    "#### basic test"
   ]
  },
  {
   "cell_type": "code",
   "execution_count": 10,
   "id": "a7ced171-fa67-47c6-a5a6-765f96a89e47",
   "metadata": {},
   "outputs": [
    {
     "name": "stdout",
     "output_type": "stream",
     "text": [
      "a\n"
     ]
    }
   ],
   "source": [
    "%timeit -n 1 -r 1\n",
    "print('a')"
   ]
  },
  {
   "cell_type": "code",
   "execution_count": 8,
   "id": "9ac9fcf8-2d5d-4f12-be94-e557e2f44f6e",
   "metadata": {},
   "outputs": [
    {
     "name": "stderr",
     "output_type": "stream",
     "text": [
      "/home/grela/miniconda3/envs/peano/lib/python3.7/site-packages/numpy/core/fromnumeric.py:3441: RuntimeWarning: Mean of empty slice.\n",
      "  out=out, **kwargs)\n",
      "/home/grela/miniconda3/envs/peano/lib/python3.7/site-packages/numpy/core/_methods.py:182: RuntimeWarning: invalid value encountered in true_divide\n",
      "  ret, rcount, out=ret, casting='unsafe', subok=False)\n",
      "/home/grela/.local/lib/python3.7/site-packages/MFDFA/MFDFA.py:241: RuntimeWarning: divide by zero encountered in float_power\n",
      "  np.mean(np.float_power(F, q / 2), axis = 1),\n"
     ]
    }
   ],
   "source": [
    "%timeit -n 1 -r 1\n",
    "scan_file = 'test-data/scanfile.nii.gz'\n",
    "ah = mfractal_mri()\n",
    "ah.load_scan(scan_file)\n",
    "ah._slice_scan(slice_axis='z')\n",
    "ah._map_to_sfc()\n",
    "ah._run_mfdfa()\n",
    "H = ah._get_hursts()"
   ]
  },
  {
   "cell_type": "code",
   "execution_count": 11,
   "id": "577e3b39-74db-41d9-bf40-d23b53370a42",
   "metadata": {},
   "outputs": [
    {
     "name": "stdout",
     "output_type": "stream",
     "text": [
      "49.4 s ± 0 ns per loop (mean ± std. dev. of 1 run, 1 loop each)\n"
     ]
    }
   ],
   "source": [
    "%timeit -n 1 -r 1 ah.pipeline(nii_file = scan_file, slice_axis = 'z')"
   ]
  },
  {
   "cell_type": "markdown",
   "id": "692802db-1426-42fe-b294-402a9d84d7d0",
   "metadata": {},
   "source": [
    "#### hursts"
   ]
  },
  {
   "cell_type": "code",
   "execution_count": 4,
   "id": "a0dfa4e2-0f06-467a-b318-f0d969c651f4",
   "metadata": {},
   "outputs": [],
   "source": [
    "import matplotlib.pyplot as plt\n",
    "import numpy as np"
   ]
  },
  {
   "cell_type": "code",
   "execution_count": 5,
   "id": "468fd176-6d68-4049-a640-3b2f18b542ee",
   "metadata": {},
   "outputs": [],
   "source": [
    "i0 = np.argwhere(ah.qs==2).item()"
   ]
  },
  {
   "cell_type": "code",
   "execution_count": 6,
   "id": "e9ab2279-ffb1-408f-b824-b20751d5c12a",
   "metadata": {},
   "outputs": [
    {
     "data": {
      "text/plain": [
       "[<matplotlib.lines.Line2D at 0x7f5402077dd0>]"
      ]
     },
     "execution_count": 6,
     "metadata": {},
     "output_type": "execute_result"
    },
    {
     "data": {
      "image/png": "[encoded data removed]",
      "text/plain": [
       "<Figure size 432x288 with 1 Axes>"
      ]
     },
     "metadata": {
      "needs_background": "light"
     },
     "output_type": "display_data"
    }
   ],
   "source": [
    "plt.plot(ah.H[:,i0])"
   ]
  }
 ],
 "metadata": {
  "kernelspec": {
   "display_name": "Python 3 (ipykernel)",
   "language": "python",
   "name": "python3"
  },
  "language_info": {
   "codemirror_mode": {
    "name": "ipython",
    "version": 3
   },
   "file_extension": ".py",
   "mimetype": "text/x-python",
   "name": "python",
   "nbconvert_exporter": "python",
   "pygments_lexer": "ipython3",
   "version": "3.7.7"
  }
 },
 "nbformat": 4,
 "nbformat_minor": 5
}
